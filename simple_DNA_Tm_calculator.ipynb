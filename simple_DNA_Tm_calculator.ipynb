{
  "metadata": {
    "kernelspec": {
      "name": "python",
      "display_name": "Python (Pyodide)",
      "language": "python"
    },
    "language_info": {
      "codemirror_mode": {
        "name": "python",
        "version": 3
      },
      "file_extension": ".py",
      "mimetype": "text/x-python",
      "name": "python",
      "nbconvert_exporter": "python",
      "pygments_lexer": "ipython3",
      "version": "3.8"
    }
  },
  "nbformat_minor": 5,
  "nbformat": 4,
  "cells": [
    {
      "id": "a824988c-cc9e-4733-8bb5-4cd001939696",
      "cell_type": "code",
      "source": "import os\nimport pandas as pd\n\n#We detect the type of file and extract a list of DNA sequence if the file is in the .csv or in the .fasta formats\ndef read_sequences(file_path):\n    ext = os.path.splitext(file_path)[1].lower()\n    if ext == \".csv\":\n        df = pd.read_csv(file_path)\n        return df[\"sequence\"].tolist()\n    elif ext in [\".fasta\", \".fa\"]:\n        sequences = []\n        with open(file_path, \"r\") as f:\n            seq = \"\"\n            for line in f:\n                line = line.strip()\n                if line.startswith(\">\"):\n                    if seq:\n                        sequences.append(seq)\n                        seq = \"\"\n                else:\n                    seq += line\n            if seq:\n                sequences.append(seq)\n        return sequences\n    else:\n        raise ValueError(\"Unsupported file format. Please use .csv or .fasta\")\n\n#We ask the user to input their file path\nDNA_seq = read_sequences(input(\"Please give the file path of a .csv or .fasta file\"))\n\n\n\n\n",
      "metadata": {
        "trusted": true
      },
      "outputs": [
        {
          "output_type": "stream",
          "name": "stdin",
          "text": "Please give the file path of a .csv or .fasta file simple_DNA_Tm_calculator/example.fasta\n"
        }
      ],
      "execution_count": 9
    },
    {
      "id": "e8c62c07-1960-410d-9ed7-c6f035d7867d",
      "cell_type": "code",
      "source": "",
      "metadata": {
        "trusted": true
      },
      "outputs": [],
      "execution_count": null
    }
  ]
}